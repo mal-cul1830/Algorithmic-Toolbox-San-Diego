{
  "nbformat": 4,
  "nbformat_minor": 0,
  "metadata": {
    "colab": {
      "name": "IMG_MSE.ipynb",
      "provenance": [],
      "authorship_tag": "ABX9TyOoe5bOJ5kD8TsRhgrL4ZdR",
      "include_colab_link": true
    },
    "kernelspec": {
      "name": "python3",
      "display_name": "Python 3"
    }
  },
  "cells": [
    {
      "cell_type": "markdown",
      "metadata": {
        "id": "view-in-github",
        "colab_type": "text"
      },
      "source": [
        "<a href=\"https://colab.research.google.com/github/mal-cul1830/Algorithmic-Toolbox-San-Diego/blob/master/IMG_MSE.ipynb\" target=\"_parent\"><img src=\"https://colab.research.google.com/assets/colab-badge.svg\" alt=\"Open In Colab\"/></a>"
      ]
    },
    {
      "cell_type": "code",
      "metadata": {
        "id": "ovKgzsD3Fez2"
      },
      "source": [
        "from PIL import Image\r\n",
        "import requests\r\n",
        "#images for testing\r\n",
        "im1 = Image.open(requests.get(\"https://previews.123rf.com/images/garsya/garsya1503/garsya150300004/37818947-blank-square-cookie-on-the-white-background.jpg\", stream=True).raw)\r\n",
        "im2 = Image.open(requests.get(\"https://previews.123rf.com/images/reamolko/reamolko1502/reamolko150200073/36802200-crispy-cracker-isolated-crunchy-biscuit-yellow-square-cookie-.jpg\", stream=True).raw)\r\n"
      ],
      "execution_count": 1,
      "outputs": []
    },
    {
      "cell_type": "code",
      "metadata": {
        "id": "QQMjuaMIGBmR"
      },
      "source": [
        "def pad(img, h, w):\r\n",
        "    top_pad = np.floor((h - img.shape[0]) / 2).astype(np.uint16)\r\n",
        "    bottom_pad = np.ceil((h - img.shape[0]) / 2).astype(np.uint16)\r\n",
        "    right_pad = np.ceil((w - img.shape[1]) / 2).astype(np.uint16)\r\n",
        "    left_pad = np.floor((w - img.shape[1]) / 2).astype(np.uint16)\r\n",
        "    return np.copy(np.pad(img, ((top_pad, bottom_pad), (left_pad, right_pad), (0, 0)), mode='symmetric'))"
      ],
      "execution_count": 48,
      "outputs": []
    },
    {
      "cell_type": "code",
      "metadata": {
        "id": "AAq6RkhRHJMI"
      },
      "source": [
        "def img_mse(im1, im2):\r\n",
        "    h = max(np.array(im1).shape[0], np.array(im2).shape[0])\r\n",
        "    w = max(np.array(im1).shape[1], np.array(im2).shape[1])\r\n",
        "    img1_pad = pad(np.array(im1), h,w)\r\n",
        "    img2_pad = pad(np.array(im2), h,w)\r\n",
        "    return np.square(np.subtract(img1_pad, img2_pad)).mean()"
      ],
      "execution_count": 65,
      "outputs": []
    },
    {
      "cell_type": "code",
      "metadata": {
        "colab": {
          "base_uri": "https://localhost:8080/"
        },
        "id": "GhIDRrLsHXHs",
        "outputId": "f848f500-c9d7-4206-8611-63649eb9e761"
      },
      "source": [
        "img_mse(im1, im2)"
      ],
      "execution_count": 66,
      "outputs": [
        {
          "output_type": "execute_result",
          "data": {
            "text/plain": [
              "58.564439250493095"
            ]
          },
          "metadata": {
            "tags": []
          },
          "execution_count": 66
        }
      ]
    }
  ]
}